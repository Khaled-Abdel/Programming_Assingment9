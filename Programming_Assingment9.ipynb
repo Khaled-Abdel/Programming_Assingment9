{
 "cells": [
  {
   "cell_type": "markdown",
   "metadata": {},
   "source": [
    "#1) Write a Python program to check if the given number is a Disarium Number?"
   ]
  },
  {
   "cell_type": "code",
   "execution_count": 28,
   "metadata": {},
   "outputs": [
    {
     "name": "stdout",
     "output_type": "stream",
     "text": [
      "Enter the nuber you want to check: 175\n",
      "it is a Disarium Number\n"
     ]
    }
   ],
   "source": [
    "# A disarium number is a number in which the sum of the digits to the power \n",
    "# of their respective position is equal to the number itself \n",
    "check_num = input(\"Enter the nuber you want to check: \")\n",
    "total = 0\n",
    "for i in range(len(check_num)):\n",
    "    num = int(check_num[i])**(i+1)\n",
    "    total += num\n",
    "\n",
    "if total == int(check_num):\n",
    "    print(\"it is a Disarium Number\")\n",
    "else:\n",
    "    print(\"it is not a Disarium Number\")"
   ]
  },
  {
   "cell_type": "markdown",
   "metadata": {},
   "source": [
    "#2) Write a Python program to print all disarium numbers between 1 to 100?"
   ]
  },
  {
   "cell_type": "code",
   "execution_count": 38,
   "metadata": {},
   "outputs": [
    {
     "name": "stdout",
     "output_type": "stream",
     "text": [
      "The disarium number of 1 is 1\n",
      "The disarium number of 2 is 2\n",
      "The disarium number of 3 is 3\n",
      "The disarium number of 4 is 4\n",
      "The disarium number of 5 is 5\n",
      "The disarium number of 6 is 6\n",
      "The disarium number of 7 is 7\n",
      "The disarium number of 8 is 8\n",
      "The disarium number of 9 is 9\n",
      "The disarium number of 89 is 89\n"
     ]
    }
   ],
   "source": [
    "for seq in range(1,101):\n",
    "    total = 0\n",
    "    string_num = str(seq)\n",
    "    for each_num in range(len(string_num)):\n",
    "        num = (int(string_num[each_num]))**(each_num+1)\n",
    "        total += num\n",
    "    if total == seq:\n",
    "        print(\"The disarium number of {} is {}\".format(seq, total))\n",
    "        \n"
   ]
  },
  {
   "cell_type": "markdown",
   "metadata": {},
   "source": [
    "#3) Write a Python program to check if the given number is Happy Number?"
   ]
  },
  {
   "cell_type": "code",
   "execution_count": 2,
   "metadata": {},
   "outputs": [
    {
     "name": "stdout",
     "output_type": "stream",
     "text": [
      "82 is a happy number\n"
     ]
    }
   ],
   "source": [
    "# a happy number is squaring each digit of a number and adding it\n",
    "# if it ends up to 1 then it is a happy number\n",
    "num = 82\n",
    "total = num\n",
    "while total != 4 and total != 1:\n",
    "    total = happynumber(total)\n",
    "    \n",
    "if total == 1:\n",
    "    print(\"{} is a happy number\".format(num))\n",
    "\n",
    "def happynumber(num):\n",
    "    sum1 = 0\n",
    "    rem1 = 0\n",
    "    \n",
    "    while num>0:\n",
    "        rem1 = num%10\n",
    "        sum1 = sum1 + rem1*rem1\n",
    "        num = num//10\n",
    "        \n",
    "    return sum1\n"
   ]
  },
  {
   "cell_type": "markdown",
   "metadata": {},
   "source": [
    "#4) Write a Python program to print all happy numbers between 1 and 100?"
   ]
  },
  {
   "cell_type": "code",
   "execution_count": 3,
   "metadata": {},
   "outputs": [
    {
     "name": "stdout",
     "output_type": "stream",
     "text": [
      "1 is a happy number\n",
      "7 is a happy number\n",
      "10 is a happy number\n",
      "13 is a happy number\n",
      "19 is a happy number\n",
      "23 is a happy number\n",
      "28 is a happy number\n",
      "31 is a happy number\n",
      "32 is a happy number\n",
      "44 is a happy number\n",
      "49 is a happy number\n",
      "68 is a happy number\n",
      "70 is a happy number\n",
      "79 is a happy number\n",
      "82 is a happy number\n",
      "86 is a happy number\n",
      "91 is a happy number\n",
      "94 is a happy number\n",
      "97 is a happy number\n",
      "100 is a happy number\n"
     ]
    }
   ],
   "source": [
    "def happynumber(num):\n",
    "    sum1 = 0\n",
    "    rem1 = 0\n",
    "    \n",
    "    while num>0:\n",
    "        rem1 = num%10\n",
    "        sum1 = sum1 + rem1*rem1\n",
    "        num = num//10\n",
    "        \n",
    "    return sum1\n",
    "\n",
    "\n",
    "for i in range(1,101):\n",
    "    num = i\n",
    "    total = num\n",
    "    while total !=4 and total !=1:\n",
    "        total = happynumber(total)\n",
    "        \n",
    "    if total ==1:\n",
    "        print(\"{} is a happy number\".format(num))"
   ]
  },
  {
   "cell_type": "markdown",
   "metadata": {},
   "source": [
    "#5) Write a Python program to determine whether the given number is a Harshad Number?"
   ]
  },
  {
   "cell_type": "code",
   "execution_count": 24,
   "metadata": {},
   "outputs": [
    {
     "name": "stdout",
     "output_type": "stream",
     "text": [
      "Enter a number: 15\n",
      "15 is not a harshad number\n"
     ]
    }
   ],
   "source": [
    "# harshad number is a given number base is an integer that is divisible by the sum of its digits when written in that base\n",
    "\n",
    "check = input(\"Enter a number: \")\n",
    "    \n",
    "def Harshadnumber(check):\n",
    "    \n",
    "    sum1 = 0\n",
    "    for i in range(len(check)):\n",
    "        sum1 = sum1 + int(check[i])\n",
    "    \n",
    "    return sum1\n",
    "    \n",
    "if int(check)%Harshadnumber(check) == 0:\n",
    "    print(\"{} is a harshad number\".format(int(check)))\n",
    "else:\n",
    "    print(\"{} is not a harshad number\".format(int(check)))\n",
    "    "
   ]
  },
  {
   "cell_type": "markdown",
   "metadata": {},
   "source": [
    "#6) Write a Python program to print all pronic numbers between 1 and 100?"
   ]
  },
  {
   "cell_type": "code",
   "execution_count": 30,
   "metadata": {},
   "outputs": [
    {
     "name": "stdout",
     "output_type": "stream",
     "text": [
      "the pronic number of 1 is 2\n",
      "the pronic number of 2 is 6\n",
      "the pronic number of 3 is 12\n",
      "the pronic number of 4 is 20\n",
      "the pronic number of 5 is 30\n",
      "the pronic number of 6 is 42\n",
      "the pronic number of 7 is 56\n",
      "the pronic number of 8 is 72\n",
      "the pronic number of 9 is 90\n",
      "the pronic number of 10 is 110\n",
      "the pronic number of 11 is 132\n",
      "the pronic number of 12 is 156\n",
      "the pronic number of 13 is 182\n",
      "the pronic number of 14 is 210\n",
      "the pronic number of 15 is 240\n",
      "the pronic number of 16 is 272\n",
      "the pronic number of 17 is 306\n",
      "the pronic number of 18 is 342\n",
      "the pronic number of 19 is 380\n",
      "the pronic number of 20 is 420\n",
      "the pronic number of 21 is 462\n",
      "the pronic number of 22 is 506\n",
      "the pronic number of 23 is 552\n",
      "the pronic number of 24 is 600\n",
      "the pronic number of 25 is 650\n",
      "the pronic number of 26 is 702\n",
      "the pronic number of 27 is 756\n",
      "the pronic number of 28 is 812\n",
      "the pronic number of 29 is 870\n",
      "the pronic number of 30 is 930\n",
      "the pronic number of 31 is 992\n",
      "the pronic number of 32 is 1056\n",
      "the pronic number of 33 is 1122\n",
      "the pronic number of 34 is 1190\n",
      "the pronic number of 35 is 1260\n",
      "the pronic number of 36 is 1332\n",
      "the pronic number of 37 is 1406\n",
      "the pronic number of 38 is 1482\n",
      "the pronic number of 39 is 1560\n",
      "the pronic number of 40 is 1640\n",
      "the pronic number of 41 is 1722\n",
      "the pronic number of 42 is 1806\n",
      "the pronic number of 43 is 1892\n",
      "the pronic number of 44 is 1980\n",
      "the pronic number of 45 is 2070\n",
      "the pronic number of 46 is 2162\n",
      "the pronic number of 47 is 2256\n",
      "the pronic number of 48 is 2352\n",
      "the pronic number of 49 is 2450\n",
      "the pronic number of 50 is 2550\n",
      "the pronic number of 51 is 2652\n",
      "the pronic number of 52 is 2756\n",
      "the pronic number of 53 is 2862\n",
      "the pronic number of 54 is 2970\n",
      "the pronic number of 55 is 3080\n",
      "the pronic number of 56 is 3192\n",
      "the pronic number of 57 is 3306\n",
      "the pronic number of 58 is 3422\n",
      "the pronic number of 59 is 3540\n",
      "the pronic number of 60 is 3660\n",
      "the pronic number of 61 is 3782\n",
      "the pronic number of 62 is 3906\n",
      "the pronic number of 63 is 4032\n",
      "the pronic number of 64 is 4160\n",
      "the pronic number of 65 is 4290\n",
      "the pronic number of 66 is 4422\n",
      "the pronic number of 67 is 4556\n",
      "the pronic number of 68 is 4692\n",
      "the pronic number of 69 is 4830\n",
      "the pronic number of 70 is 4970\n",
      "the pronic number of 71 is 5112\n",
      "the pronic number of 72 is 5256\n",
      "the pronic number of 73 is 5402\n",
      "the pronic number of 74 is 5550\n",
      "the pronic number of 75 is 5700\n",
      "the pronic number of 76 is 5852\n",
      "the pronic number of 77 is 6006\n",
      "the pronic number of 78 is 6162\n",
      "the pronic number of 79 is 6320\n",
      "the pronic number of 80 is 6480\n",
      "the pronic number of 81 is 6642\n",
      "the pronic number of 82 is 6806\n",
      "the pronic number of 83 is 6972\n",
      "the pronic number of 84 is 7140\n",
      "the pronic number of 85 is 7310\n",
      "the pronic number of 86 is 7482\n",
      "the pronic number of 87 is 7656\n",
      "the pronic number of 88 is 7832\n",
      "the pronic number of 89 is 8010\n",
      "the pronic number of 90 is 8190\n",
      "the pronic number of 91 is 8372\n",
      "the pronic number of 92 is 8556\n",
      "the pronic number of 93 is 8742\n",
      "the pronic number of 94 is 8930\n",
      "the pronic number of 95 is 9120\n",
      "the pronic number of 96 is 9312\n",
      "the pronic number of 97 is 9506\n",
      "the pronic number of 98 is 9702\n",
      "the pronic number of 99 is 9900\n",
      "the pronic number of 100 is 10100\n"
     ]
    }
   ],
   "source": [
    "#pronic formula is n(n+1)\n",
    "\n",
    "for i in range(1,101):\n",
    "    total = i*(i+1)\n",
    "    print(\"the pronic number of {} is {}\".format(i, total))"
   ]
  },
  {
   "cell_type": "code",
   "execution_count": null,
   "metadata": {},
   "outputs": [],
   "source": []
  }
 ],
 "metadata": {
  "kernelspec": {
   "display_name": "Python 3",
   "language": "python",
   "name": "python3"
  },
  "language_info": {
   "codemirror_mode": {
    "name": "ipython",
    "version": 3
   },
   "file_extension": ".py",
   "mimetype": "text/x-python",
   "name": "python",
   "nbconvert_exporter": "python",
   "pygments_lexer": "ipython3",
   "version": "3.8.5"
  }
 },
 "nbformat": 4,
 "nbformat_minor": 4
}
